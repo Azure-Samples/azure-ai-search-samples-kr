{
 "cells": [
  {
   "cell_type": "markdown",
   "metadata": {},
   "source": [
    "# Azure AI 검색의 검색 인덱스\n",
    "\n",
    "Azure AI 검색에서 검색 인덱스는 인덱싱, 전체 텍스트 검색, 벡터 검색, 하이브리드 검색 및 필터링된 쿼리를 수행하는 검색 엔진에서 사용할 수 있는 검색 가능한 콘텐츠입니다. 인덱스는 스키마에 의해 정의되고 검색 서비스에 저장되며, 데이터 가져오기는 두 번째 단계로 수행됩니다. 이 콘텐츠는 최신 검색 애플리케이션에서 예상되는 밀리초 응답 시간에 필요한 주 데이터 저장소와 별도로 검색 서비스 내에 존재합니다. 인덱서 기반 인덱싱 시나리오를 제외하고 검색 서비스는 원본 데이터에 연결하거나 쿼리하지 않습니다.\n",
    "\n",
    "검색 인덱스를 만들고 관리하려는 경우 이 문서는 다음 사항을 이해하는 데 도움이 됩니다.\n",
    "\n",
    "- 콘텐츠(문서 및 스키마)\n",
    "- 실제 데이터 구조\n",
    "- 기본 작업\n",
    "\n",
    "## 검색 인덱스 스키마\n",
    "\n",
    "Azure AI 검색에서 인덱스는 검색 문서를 포함합니다. 개념상, 문서는 인덱스에서 검색 가능한 데이터의 단일 단위입니다. 예를 들어 소매점은 각 제품에 대한 문서를 가지고 있고, 대학은 각 수업에 대한 문서를 가질 수 있고, 여행 사이트에는 각 호텔과 목적지에 대한 문서가 있을 수 있습니다. 이러한 개념을 좀 더 익숙한 데이터베이스 대응 개념과 연관 지어 살펴보면 ‘검색 인덱스’는 ‘테이블’에 해당하고 ‘문서’는 테이블의 ‘행’과 거의 비슷합니다.\n",
    "\n",
    "문서 구조는 다음 예제와 같이 인덱스 스키마에 의해 결정됩니다. 일반적으로 “field” 컬렉션이 인덱스의 가장 큰 부분이고 필드마다 이름이 지정되고 데이터 형식이 할당되며 사용 방법을 결정하는 허용 가능한 동작으로 특성이 지정됩니다.\n",
    "\n",
    "\n",
    "> 📝 참고\n",
    ">\n",
    "> 더 자세한 내용은 [Azure AI 검색의 검색 인덱스](https://learn.microsoft.com/ko-kr/azure/search/search-what-is-an-index) 을 참고해 주세요."
   ]
  },
  {
   "cell_type": "markdown",
   "metadata": {},
   "source": [
    "### 이 노트북의 목적\n",
    "\n",
    "- 이 노트북에서는 어휘 검색을 위한 인덱스(index) 생성, 문서(document)를 입력하는 indexing과 기본적인 검색 방법을 python으로 학습합니다.\n",
    "\n",
    "### 필요사항\n",
    "\n",
    "- 이 예제를 실행하기 위해 Search service가 생성되어 있어야 합니다. Search service가 생성되어 있지 않다면, [Auzre Portal](https://learn.microsoft.com/ko-kr/azure/search/search-create-service-portal)에서 생성하시거나 [Search 서비스 생성](00.search_service_creation.ipynb)의 가이드를 참고하시어 생성해 주세요. \n",
    "\n",
    "### 참고사항\n",
    "\n",
    "[02.search_basic_rest_api](02.search_basic_rest_api.rest), [03.search_basic_portal](03.search_basic_portal.ipynb) 파일은 이 예제와 같은 작업을 각각 Rest API, Azure Portal에서 수행하는 예제입니다. 이 예제 수행 후 필요할 경우 해당 예제들을 참고해 주세요."
   ]
  },
  {
   "cell_type": "markdown",
   "metadata": {},
   "source": [
    "### library 및 변수 셋팅"
   ]
  },
  {
   "cell_type": "code",
   "execution_count": null,
   "metadata": {},
   "outputs": [],
   "source": [
    "from dotenv import load_dotenv\n",
    "from azure.identity import DefaultAzureCredential\n",
    "from azure.core.credentials import AzureKeyCredential\n",
    "from azure.search.documents.indexes import SearchIndexClient\n",
    "from azure.search.documents import SearchClient\n",
    "from azure.search.documents.indexes.models import (\n",
    "    ComplexField,\n",
    "    SimpleField,\n",
    "    SearchFieldDataType,\n",
    "    SearchableField,\n",
    "    SearchIndex\n",
    ")\n",
    "import os\n",
    "\n",
    "# .env 에서 환경변수를 가져옵니다.\n",
    "# .env 파일을 아직 생성하지 않았다면, .env.example 파일을 복사하여 .env 파일을 생성하고, 값들을 설정해 주세요.\n",
    "# 참고로 중간에 .env 파일의 내용을 변경하였다면, `Restart Kernel`(Restart 버튼)로 재시작해야 합니다.\n",
    "load_dotenv() \n",
    "\n",
    "endpoint = os.getenv(\"AZURE_SEARCH_SERVICE_ENDPOINT\")\n",
    "credential = AzureKeyCredential(os.getenv(\"AZURE_SEARCH_ADMIN_KEY\")) if os.getenv(\"AZURE_SEARCH_ADMIN_KEY\") else DefaultAzureCredential()\n",
    "\n",
    "index_name = \"hotels-quickstart\""
   ]
  },
  {
   "cell_type": "markdown",
   "metadata": {},
   "source": [
    "### Index 생성\n",
    "\n",
    "[SearchIndexClient](https://learn.microsoft.com/ko-kr/python/api/azure-search-documents/azure.search.documents.indexes.searchindexclient?view=azure-python)를 이용하여 index를 생성합니다.\n"
   ]
  },
  {
   "cell_type": "code",
   "execution_count": 8,
   "metadata": {},
   "outputs": [
    {
     "name": "stdout",
     "output_type": "stream",
     "text": [
      " hotels-quickstart 인덱스 생성 완료\n"
     ]
    }
   ],
   "source": [
    "# 스키마 \n",
    "fields = [\n",
    "    SimpleField(name=\"HotelId\", type=SearchFieldDataType.String, key=True),\n",
    "    SearchableField(name=\"HotelName\", type=SearchFieldDataType.String, sortable=True),\n",
    "    SearchableField(name=\"Description\", type=SearchFieldDataType.String, analyzer_name=\"en.lucene\"),\n",
    "    SearchableField(name=\"Description_fr\", type=SearchFieldDataType.String, analyzer_name=\"fr.lucene\"),\n",
    "    SearchableField(name=\"Description_kr\", type=SearchFieldDataType.String, analyzer_name=\"ko.lucene\"),\n",
    "    SearchableField(name=\"Category\", type=SearchFieldDataType.String, facetable=True, filterable=True, sortable=True),\n",
    "\n",
    "    SearchableField(name=\"Tags\", collection=True, type=SearchFieldDataType.String, facetable=True, filterable=True),\n",
    "\n",
    "    SimpleField(name=\"ParkingIncluded\", type=SearchFieldDataType.Boolean, facetable=True, filterable=True, sortable=True),\n",
    "    SimpleField(name=\"LastRenovationDate\", type=SearchFieldDataType.DateTimeOffset, facetable=True, filterable=True, sortable=True),\n",
    "    SimpleField(name=\"Rating\", type=SearchFieldDataType.Double, facetable=True, filterable=True, sortable=True),\n",
    "\n",
    "    ComplexField(name=\"Address\", fields=[\n",
    "        SearchableField(name=\"StreetAddress\", type=SearchFieldDataType.String),\n",
    "        SearchableField(name=\"City\", type=SearchFieldDataType.String, facetable=True, filterable=True, sortable=True),\n",
    "        SearchableField(name=\"StateProvince\", type=SearchFieldDataType.String, facetable=True, filterable=True, sortable=True),\n",
    "        SearchableField(name=\"PostalCode\", type=SearchFieldDataType.String, facetable=True, filterable=True, sortable=True),\n",
    "        SearchableField(name=\"Country\", type=SearchFieldDataType.String, facetable=True, filterable=True, sortable=True),\n",
    "    ])\n",
    "]\n",
    "\n",
    "scoring_profiles = []\n",
    "suggester = [{'name': 'sg', 'source_fields': ['Tags', 'Address/City', 'Address/Country']}]\n",
    "\n",
    "# Index 생성\n",
    "index = SearchIndex(name=index_name, fields=fields, suggesters=suggester, scoring_profiles=scoring_profiles)\n",
    "index_client = SearchIndexClient(endpoint=endpoint, credential=credential)\n",
    "result = index_client.create_or_update_index(index)\n",
    "print(f' {result.name} 인덱스 생성 완료')\n"
   ]
  },
  {
   "cell_type": "markdown",
   "metadata": {},
   "source": [
    "### 입력할 document 데이터\n",
    "\n",
    "Index에 입력할 데이터 입니다."
   ]
  },
  {
   "cell_type": "code",
   "execution_count": 9,
   "metadata": {},
   "outputs": [],
   "source": [
    "documents = [\n",
    "    {\n",
    "    \"@search.action\": \"upload\",\n",
    "    \"HotelId\": \"1\",\n",
    "    \"HotelName\": \"Secret Point Motel\",\n",
    "    \"Description\": \"The hotel is ideally located on the main commercial artery of the city in the heart of New York. A few minutes away is Time's Square and the historic centre of the city, as well as other places of interest that make New York one of America's most attractive and cosmopolitan cities.\",\n",
    "    \"Description_fr\": \"L'hôtel est idéalement situé sur la principale artère commerciale de la ville en plein cœur de New York. A quelques minutes se trouve la place du temps et le centre historique de la ville, ainsi que d'autres lieux d'intérêt qui font de New York l'une des villes les plus attractives et cosmopolites de l'Amérique.\",\n",
    "    \"Description_kr\": \"이 호텔은 뉴욕의 중심부에 있는 도시의 주요 상업 동맥에 이상적으로 위치해 있습니다. 몇 분 거리에 타임스 스퀘어와 뉴욕의 역사적인 중심지뿐만 아니라 뉴욕을 미국에서 가장 매력적이고 국제적인 도시로 만드는 다른 명소가 있습니다.\",\n",
    "    \"Category\": \"Boutique\",\n",
    "    \"Tags\": [ \"pool\", \"air conditioning\", \"concierge\" ],\n",
    "    \"ParkingIncluded\": \"false\",\n",
    "    \"LastRenovationDate\": \"1970-01-18T00:00:00Z\",\n",
    "    \"Rating\": 3.60,\n",
    "    \"Address\": {\n",
    "        \"StreetAddress\": \"677 5th Ave\",\n",
    "        \"City\": \"New York\",\n",
    "        \"StateProvince\": \"NY\",\n",
    "        \"PostalCode\": \"10022\",\n",
    "        \"Country\": \"USA\"\n",
    "        }\n",
    "    },\n",
    "    {\n",
    "    \"@search.action\": \"upload\",\n",
    "    \"HotelId\": \"2\",\n",
    "    \"HotelName\": \"Twin Dome Motel\",\n",
    "    \"Description\": \"The hotel is situated in a  nineteenth century plaza, which has been expanded and renovated to the highest architectural standards to create a modern, functional and first-class hotel in which art and unique historical elements coexist with the most modern comforts.\",\n",
    "    \"Description_fr\": \"L'hôtel est situé dans une place du XIXe siècle, qui a été agrandie et rénovée aux plus hautes normes architecturales pour créer un hôtel moderne, fonctionnel et de première classe dans lequel l'art et les éléments historiques uniques coexistent avec le confort le plus moderne.\",\n",
    "    \"Description_kr\": \"이 호텔은 19세기 광장에 위치해 있으며, 예술과 독특한 역사적 요소가 가장 현대적인 편안함과 공존하는 현대적이고 기능적인 일류 호텔을 만들기 위해 최고 수준의 건축 표준으로 확장 및 개조 되었습니다.\",\n",
    "    \"Category\": \"Boutique\",\n",
    "    \"Tags\": [ \"pool\", \"free wifi\", \"concierge\" ],\n",
    "    \"ParkingIncluded\": \"false\",\n",
    "    \"LastRenovationDate\": \"1979-02-18T00:00:00Z\",\n",
    "    \"Rating\": 3.60,\n",
    "    \"Address\": {\n",
    "        \"StreetAddress\": \"140 University Town Center Dr\",\n",
    "        \"City\": \"Sarasota\",\n",
    "        \"StateProvince\": \"FL\",\n",
    "        \"PostalCode\": \"34243\",\n",
    "        \"Country\": \"USA\"\n",
    "        }\n",
    "    },\n",
    "    {\n",
    "    \"@search.action\": \"upload\",\n",
    "    \"HotelId\": \"3\",\n",
    "    \"HotelName\": \"Triple Landscape Hotel\",\n",
    "    \"Description\": \"The Hotel stands out for its gastronomic excellence under the management of William Dough, who advises on and oversees all of the Hotel's restaurant services.\",\n",
    "    \"Description_fr\": \"L'hôtel est situé dans une place du XIXe siècle, qui a été agrandie et rénovée aux plus hautes normes architecturales pour créer un hôtel moderne, fonctionnel et de première classe dans lequel l'art et les éléments historiques uniques coexistent avec le confort le plus moderne.\",\n",
    "    \"Description_kr\": \"호텔의 모든 레스토랑 서비스를 자문하고 감독하는 윌리엄 도우(William Dough)의 관리 하에 뛰어난 미식 경험을 제공하는 것이 특징입니다.\",\n",
    "    \"Category\": \"Resort and Spa\",\n",
    "    \"Tags\": [ \"air conditioning\", \"bar\", \"continental breakfast\" ],\n",
    "    \"ParkingIncluded\": \"true\",\n",
    "    \"LastRenovationDate\": \"2015-09-20T00:00:00Z\",\n",
    "    \"Rating\": 4.80,\n",
    "    \"Address\": {\n",
    "        \"StreetAddress\": \"3393 Peachtree Rd\",\n",
    "        \"City\": \"Atlanta\",\n",
    "        \"StateProvince\": \"GA\",\n",
    "        \"PostalCode\": \"30326\",\n",
    "        \"Country\": \"USA\"\n",
    "        }\n",
    "    },\n",
    "    {\n",
    "    \"@search.action\": \"upload\",\n",
    "    \"HotelId\": \"4\",\n",
    "    \"HotelName\": \"Sublime Cliff Hotel\",\n",
    "    \"Description\": \"Sublime Cliff Hotel is located in the heart of the historic center of Sublime in an extremely vibrant and lively area within short walking distance to the sites and landmarks of the city and is surrounded by the extraordinary beauty of churches, buildings, shops and monuments. Sublime Cliff is part of a lovingly restored 1800 palace.\",\n",
    "    \"Description_fr\": \"Le sublime Cliff Hotel est situé au coeur du centre historique de sublime dans un quartier extrêmement animé et vivant, à courte distance de marche des sites et monuments de la ville et est entouré par l'extraordinaire beauté des églises, des bâtiments, des commerces et Monuments. Sublime Cliff fait partie d'un Palace 1800 restauré avec amour.\",\n",
    "    \"Description_kr\": \"수블림 클리프 호텔은 도시의 유적지와 랜드마크에서 도보로 가까운 거리에 있는 매우 활기차고 활기찬 수블림의 역사적인 중심지에 위치하고 있으며 교회, 건물, 상점 및 기념물의 특별한 아름다움으로 둘러싸여 있습니다. 수블림 클리프는 사랑스럽게 복원된 1800년 궁전의 일부입니다.\",\n",
    "    \"Category\": \"Boutique\",\n",
    "    \"Tags\": [ \"concierge\", \"view\", \"24-hour front desk service\" ],\n",
    "    \"ParkingIncluded\": \"true\",\n",
    "    \"LastRenovationDate\": \"1960-02-06T00:00:00Z\",\n",
    "    \"Rating\": 4.60,\n",
    "    \"Address\": {\n",
    "        \"StreetAddress\": \"7400 San Pedro Ave\",\n",
    "        \"City\": \"San Antonio\",\n",
    "        \"StateProvince\": \"TX\",\n",
    "        \"PostalCode\": \"78216\",\n",
    "        \"Country\": \"USA\"\n",
    "        }\n",
    "    }\n",
    "]"
   ]
  },
  {
   "cell_type": "markdown",
   "metadata": {},
   "source": [
    "### document indexing\n",
    "\n",
    "문서를 인덱스에 인덱싱 합니다.\n",
    "\n",
    "이를 위해 사용하는 SearchClien class에 대해 더 자세한 내용은 [SearchClient](https://learn.microsoft.com/ko-kr/python/api/azure-search-documents/azure.search.documents.searchclient?view=azure-python)에서 확인 할 수 있습니다."
   ]
  },
  {
   "cell_type": "code",
   "execution_count": 10,
   "metadata": {},
   "outputs": [],
   "source": [
    "search_client = SearchClient(\n",
    "    endpoint=endpoint,\n",
    "    credential=credential,\n",
    "    index_name=index_name)"
   ]
  },
  {
   "cell_type": "code",
   "execution_count": 11,
   "metadata": {},
   "outputs": [
    {
     "name": "stdout",
     "output_type": "stream",
     "text": [
      "Upload of new document succeeded: True\n"
     ]
    }
   ],
   "source": [
    "# 문서(document)를 indexing 합니다.\n",
    "try:\n",
    "    result = search_client.upload_documents(documents=documents)\n",
    "    print(\"Upload of new document succeeded: {}\".format(result[0].succeeded))\n",
    "except Exception as ex:\n",
    "    print (ex.message)"
   ]
  },
  {
   "cell_type": "markdown",
   "metadata": {},
   "source": [
    "### 검색\n",
    "\n",
    "[SearchIndex](https://learn.microsoft.com/ko-kr/python/api/azure-search-documents/azure.search.documents.indexes.models.searchindex?view=azure-python)를 이용하여 검색을 수행 합니다.\n",
    "\n",
    "여기에서는 문를 검색하고, HotelName, Description 을 반환 합니다.\n",
    "\n",
    "search 함수에 대한 더 자세한 내용은 [search](https://learn.microsoft.com/ko-kr/python/api/azure-search-documents/azure.search.documents.searchclient?view=azure-python#azure-search-documents-searchclient-search)에서 확인 할 수 있습니다."
   ]
  },
  {
   "cell_type": "code",
   "execution_count": 12,
   "metadata": {},
   "outputs": [
    {
     "name": "stdout",
     "output_type": "stream",
     "text": [
      "Total Documents Matching Query: 4\n",
      "1.0\n",
      "Triple Landscape Hotel\n",
      "Description: The Hotel stands out for its gastronomic excellence under the management of William Dough, who advises on and oversees all of the Hotel's restaurant services.\n",
      "1.0\n",
      "Twin Dome Motel\n",
      "Description: The hotel is situated in a  nineteenth century plaza, which has been expanded and renovated to the highest architectural standards to create a modern, functional and first-class hotel in which art and unique historical elements coexist with the most modern comforts.\n",
      "1.0\n",
      "Sublime Cliff Hotel\n",
      "Description: Sublime Cliff Hotel is located in the heart of the historic center of Sublime in an extremely vibrant and lively area within short walking distance to the sites and landmarks of the city and is surrounded by the extraordinary beauty of churches, buildings, shops and monuments. Sublime Cliff is part of a lovingly restored 1800 palace.\n",
      "1.0\n",
      "Secret Point Motel\n",
      "Description: The hotel is ideally located on the main commercial artery of the city in the heart of New York. A few minutes away is Time's Square and the historic centre of the city, as well as other places of interest that make New York one of America's most attractive and cosmopolitan cities.\n"
     ]
    }
   ],
   "source": [
    "# 모든 document 를 검색하고, HotelName, Description 를 반환 합니다.\n",
    "results =  search_client.search(query_type='simple',\n",
    "    search_text=\"*\" ,\n",
    "    select='HotelName,Description',\n",
    "    include_total_count=True)\n",
    "\n",
    "# 검색 결과로 HotelName, Description 필드와 함께 검색 score도 표시합니다. \n",
    "print ('Total Documents Matching Query:', results.get_count())\n",
    "for result in results:\n",
    "    print(result[\"@search.score\"])\n",
    "    print(result[\"HotelName\"])\n",
    "    print(f\"Description: {result['Description']}\")"
   ]
  },
  {
   "cell_type": "markdown",
   "metadata": {},
   "source": [
    "### 검색어로 쿼리\n",
    "\n",
    "특정 검색어로 검색 합니다. 이전 예제와 달리 `search_text=\"century\"`로 검색어가 입력 된 것을 볼 수 있습니다."
   ]
  },
  {
   "cell_type": "code",
   "execution_count": 13,
   "metadata": {},
   "outputs": [
    {
     "name": "stdout",
     "output_type": "stream",
     "text": [
      "Total Documents Matching Query: 1\n",
      "0.78019357\n",
      "Twin Dome Motel\n",
      "Description: The hotel is situated in a  nineteenth century plaza, which has been expanded and renovated to the highest architectural standards to create a modern, functional and first-class hotel in which art and unique historical elements coexist with the most modern comforts.\n"
     ]
    }
   ],
   "source": [
    "# 'wifi'로 검색하고, HotelName, Description 를 반환 합니다.\n",
    "results =  search_client.search(query_type='simple',\n",
    "    search_text=\"wifi\" ,\n",
    "    select='HotelName,Description,Tags',\n",
    "    include_total_count=True)\n",
    "\n",
    "print ('Total Documents Matching Query:', results.get_count())\n",
    "for result in results:\n",
    "    print(result[\"@search.score\"])\n",
    "    print(result[\"HotelName\"])\n",
    "    print(f\"Description: {result['Description']}\")"
   ]
  },
  {
   "cell_type": "code",
   "execution_count": 14,
   "metadata": {},
   "outputs": [
    {
     "name": "stdout",
     "output_type": "stream",
     "text": [
      "Total Documents Matching Query: 1\n",
      "1.7906771\n",
      "Sublime Cliff Hotel\n",
      "Description: Sublime Cliff Hotel is located in the heart of the historic center of Sublime in an extremely vibrant and lively area within short walking distance to the sites and landmarks of the city and is surrounded by the extraordinary beauty of churches, buildings, shops and monuments. Sublime Cliff is part of a lovingly restored 1800 palace.\n"
     ]
    }
   ],
   "source": [
    "# '클리프'로 검색하고, HotelName, Description 를 반환 합니다.\n",
    "# 한국어로 검색하였으나 'Description_kr' 필드에 해당 명칭이 들어있기에 검색 결과가 반환 됩니다.\n",
    "results =  search_client.search(query_type='simple',\n",
    "    search_text=\"클리프\" ,\n",
    "    select='HotelName,Description,Tags',\n",
    "    include_total_count=True)\n",
    "\n",
    "print ('Total Documents Matching Query:', results.get_count())\n",
    "for result in results:\n",
    "    print(result[\"@search.score\"])\n",
    "    print(result[\"HotelName\"])\n",
    "    print(f\"Description: {result['Description']}\")"
   ]
  },
  {
   "cell_type": "markdown",
   "metadata": {},
   "source": [
    "### 필터(Filter)\n",
    "\n",
    "검색 시 원하는 조건의 document를 필터링 하여 가져올 때 사용합니다."
   ]
  },
  {
   "cell_type": "code",
   "execution_count": 22,
   "metadata": {},
   "outputs": [
    {
     "name": "stdout",
     "output_type": "stream",
     "text": [
      "3: Triple Landscape Hotel - 4.8 rating\n",
      "4: Sublime Cliff Hotel - 4.6 rating\n"
     ]
    }
   ],
   "source": [
    "# 'hotels' 로 검색하고, Rating 필드에서 4이상인 document를 가져온 후 Rating 필드 점수의 역순으로 정렬합니다.\n",
    "results = search_client.search(\n",
    "    search_text=\"hotels\", \n",
    "    select='HotelId,HotelName,Rating', \n",
    "    filter='Rating gt 4', \n",
    "    order_by='Rating desc')\n",
    "\n",
    "for result in results:\n",
    "    print(\"{}: {} - {} rating\".format(result[\"HotelId\"], result[\"HotelName\"], result[\"Rating\"]))"
   ]
  },
  {
   "cell_type": "markdown",
   "metadata": {},
   "source": [
    "### 특정 필드에서 검색\n",
    "\n",
    "특정 필드를 대상으로 검색을 수행 할 때 사용합니다."
   ]
  },
  {
   "cell_type": "code",
   "execution_count": 23,
   "metadata": {},
   "outputs": [
    {
     "name": "stdout",
     "output_type": "stream",
     "text": [
      "4: Sublime Cliff Hotel\n"
     ]
    }
   ],
   "source": [
    "# HotelName 필드에서만 검색합니다.\n",
    "\n",
    "results = search_client.search(\n",
    "    search_text=\"sublime\", \n",
    "    search_fields=['HotelName'], \n",
    "    select='HotelId,HotelName')\n",
    "\n",
    "for result in results:\n",
    "    print(\"{}: {}\".format(result[\"HotelId\"], result[\"HotelName\"]))"
   ]
  },
  {
   "cell_type": "markdown",
   "metadata": {},
   "source": [
    "### Facets\n",
    "\n",
    "검색 시 입력한 조건에 대해 각가에 대한 결과 개수를 확인 할 수 있습니다. "
   ]
  },
  {
   "cell_type": "code",
   "execution_count": 27,
   "metadata": {},
   "outputs": [
    {
     "name": "stdout",
     "output_type": "stream",
     "text": [
      "Boutique - 3\n",
      "Resort and Spa - 1\n"
     ]
    }
   ],
   "source": [
    "# 모든 document 를 검색하고, Category 별로 검색 결과 개수를 가져옵니다. \n",
    "results = search_client.search(search_text=\"*\", facets=[\"Category\"])\n",
    "\n",
    "facets = results.get_facets()\n",
    "\n",
    "for facet in facets[\"Category\"]:\n",
    "    print(\"{} - {}\".format(facet['value'], facet['count']))"
   ]
  },
  {
   "cell_type": "markdown",
   "metadata": {},
   "source": [
    "### document id로 검색\n",
    "\n",
    "indexing 된 document 들은 id를 가지게 되며, 해당 id로 문서를 검색 할 수 있습니다.\n",
    "여기에 사용 될 필드는 인덱스 생성 시 key attribute를 true로 설정합니다.\n",
    "\n",
    "이 예제에서는 HotelId를 key로 설정하였습니다.\n",
    "\n",
    "``` python\n",
    "SimpleField(name=\"HotelId\", type=SearchFieldDataType.String, key=True),\n",
    "```\n",
    "\n",
    "[get_document](https://learn.microsoft.com/ko-kr/python/api/azure-search-documents/azure.search.documents.searchclient?view=azure-python#azure-search-documents-searchclient-autocomplete) 에서 더 자세한 내용을 확인 할 수 있습니다."
   ]
  },
  {
   "cell_type": "code",
   "execution_count": 30,
   "metadata": {},
   "outputs": [
    {
     "name": "stdout",
     "output_type": "stream",
     "text": [
      "Details for hotel '3' are:\n",
      "Name: Triple Landscape Hotel\n",
      "Rating: 4.8\n",
      "Category: Resort and Spa\n"
     ]
    }
   ],
   "source": [
    "# 특정 document id로 검색\n",
    "result = search_client.get_document(key=\"3\")\n",
    "\n",
    "print(\"Details for hotel '3' are:\")\n",
    "print(\"Name: {}\".format(result[\"HotelName\"]))\n",
    "print(\"Rating: {}\".format(result[\"Rating\"]))\n",
    "print(\"Category: {}\".format(result[\"Category\"]))"
   ]
  },
  {
   "cell_type": "markdown",
   "metadata": {},
   "source": [
    "### 쿼리 자동완성\n",
    "\n",
    "쿼리 자동완성은 쿼리 생산성을 개선하기 위한 기술입니다. </br>\n",
    "Azure AI Search에서는 부분 입력에 따라 용어 또는 구를 완성하는 자동 완성을 통해 이를 지원됩니다.</p>\n",
    "\n",
    "index 생성 시 입력한 suggester의 source_fields 의 내용을 기반으로 자동완성 내용을 반환합니다.</br>\n",
    "\n",
    "```\n",
    "suggester = [{'name': 'sg', 'source_fields': ['Tags', 'Address/City', 'Address/Country']}]\n",
    "```\n",
    "\n",
    "[autocomplete](https://learn.microsoft.com/ko-kr/python/api/azure-search-documents/azure.search.documents.searchclient?view=azure-python#azure-search-documents-searchclient-autocomplete) 에서 더 자세한 내용을 확인 할 수 있습니다."
   ]
  },
  {
   "cell_type": "code",
   "execution_count": 32,
   "metadata": {},
   "outputs": [
    {
     "name": "stdout",
     "output_type": "stream",
     "text": [
      "Autocomplete for: sa\n",
      "san antonio\n",
      "sarasota\n"
     ]
    }
   ],
   "source": [
    "# Autocomplete a query\n",
    "search_suggestion = 'sa'\n",
    "results = search_client.autocomplete(\n",
    "    search_text=search_suggestion, \n",
    "    suggester_name=\"sg\",\n",
    "    mode='twoTerms')\n",
    "\n",
    "print(\"Autocomplete for:\", search_suggestion)\n",
    "for result in results:\n",
    "    print (result['text'])"
   ]
  },
  {
   "cell_type": "markdown",
   "metadata": {},
   "source": [
    "### index 삭제"
   ]
  },
  {
   "cell_type": "code",
   "execution_count": 12,
   "metadata": {},
   "outputs": [
    {
     "name": "stdout",
     "output_type": "stream",
     "text": [
      "Index hotels-quickstart Deleted\n"
     ]
    }
   ],
   "source": [
    "# index 삭제\n",
    "\n",
    "try:\n",
    "    result = index_client.delete_index(index_name)\n",
    "    print ('Index', index_name, 'Deleted')\n",
    "except Exception as ex:\n",
    "    print (ex)"
   ]
  },
  {
   "cell_type": "code",
   "execution_count": 15,
   "metadata": {},
   "outputs": [
    {
     "name": "stdout",
     "output_type": "stream",
     "text": [
      "() No index with the name 'hotels-quickstart' was found in the service 'dev-ai-search-west-us-01'.\n",
      "Code: \n",
      "Message: No index with the name 'hotels-quickstart' was found in the service 'dev-ai-search-west-us-01'.\n"
     ]
    }
   ],
   "source": [
    "# 인덱스가 지워졌는지 다시 확인.\n",
    "# 정상적으로 삭제가 되었다면, index를 찾지 못해 오류가 발생합니다.\n",
    "# 삭제가 되지 않앟다면 해당 인덱스가 나오게 됩니다.\n",
    "\n",
    "try:\n",
    "    result = index_client.get_index(index_name)\n",
    "    print (result)\n",
    "except Exception as ex:\n",
    "    print (ex)"
   ]
  }
 ],
 "metadata": {
  "kernelspec": {
   "display_name": "Python 3",
   "language": "python",
   "name": "python3"
  },
  "language_info": {
   "codemirror_mode": {
    "name": "ipython",
    "version": 3
   },
   "file_extension": ".py",
   "mimetype": "text/x-python",
   "name": "python",
   "nbconvert_exporter": "python",
   "pygments_lexer": "ipython3",
   "version": "3.11.4"
  }
 },
 "nbformat": 4,
 "nbformat_minor": 2
}
