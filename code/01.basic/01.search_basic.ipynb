{
 "cells": [
  {
   "cell_type": "markdown",
   "metadata": {},
   "source": [
    "# Azure AI Search 란?\n",
    "\n",
    "Azure AI Search([이전의 \"Azure Cognitive Search\"](https://learn.microsoft.com/ko-kr/azure/search/whats-new#new-service-name))는 모든 규모의 고성능 애플리케이션을 위해 빌드된 포괄적인 고급 검색 기술을 갖춘 엔터프라이즈 지원 검색 및 검색 시스템입니다.\n",
    "\n",
    "Azure AI Search는 Azure OpenAI Service와 Azure Machine Learning 간의 네이티브 LLM 통합을 통해 Azure에서 RAG 기반 애플리케이션을 빌드할 때 권장되는 기본 검색 시스템입니다.\n",
    "\n",
    "Azure AI Search는 기존 시나리오와 GenAI 시나리오 모두에서 사용할 수 있습니다. 일반적인 사용 사례로는 기술 자료 인사이트(카탈로그 또는 문서 검색), 정보 검색(데이터 탐색), RAG(검색 보강 생성) 및 자동화가 포함됩니다.\n",
    "\n",
    "검색 서비스를 만들 때 다음 기능을 사용합니다.\n",
    "\n",
    "- 검색 인덱스를 통한 [벡터 검색](https://learn.microsoft.com/ko-kr/azure/search/vector-search-overview) 및 전체 텍스트 및 [하이브리드 검색](https://learn.microsoft.com/ko-kr/azure/search/hybrid-search-overview)에 사용되는 검색 엔진\n",
    "- [통합 데이터 청크 및 벡터화](https://learn.microsoft.com/ko-kr/azure/search/vector-search-integrated-vectorization), 텍스트 [어휘 분석](https://learn.microsoft.com/ko-kr/azure/search/search-analyzers), 콘텐츠 추출 및 변환을 위한 [선택적 응용 AI](https://learn.microsoft.com/ko-kr/azure/search/cognitive-search-concept-intro)를 통한 풍부한 인덱싱\n",
    "- [벡터 쿼리](https://learn.microsoft.com/ko-kr/azure/search/vector-search-how-to-query), 텍스트 검색, [하이브리드 쿼리](https://learn.microsoft.com/ko-kr/azure/search/hybrid-search-how-to-query), 유사 항목 검색, 자동 완성, 지역 검색 등을 위한 풍부한 쿼리 구문\n",
    "- [의미론적 순위 지정](https://learn.microsoft.com/ko-kr/azure/search/semantic-search-overview), [채점 프로필](https://learn.microsoft.com/ko-kr/azure/search/index-add-scoring-profiles), [벡터 쿼리에 대한 양자화](https://learn.microsoft.com/ko-kr/azure/search/vector-search-how-to-configure-compression-storage) 및 런타임 시 쿼리 동작을 제어하기 위한 매개 변수를 사용하여 관련성 및 쿼리 성능 조정\n",
    "- Azure 규모, 보안 및 도달률\n",
    "- 데이터 레이어, 기계 학습 레이어, Azure AI 서비스 및 Azure OpenAI에서 Azure 통합\n",
    "\n",
    "구조적으로 검색 서비스는 인덱싱되지 않은 데이터를 포함하는 외부 데이터 저장소와 검색 인덱스에 쿼리 요청을 보내고 응답을 처리하는 클라이언트 앱 사이에 배치됩니다.\n",
    "\n",
    "![Azure AI 검색 아키텍처](https://learn.microsoft.com/ko-kr/azure/search/media/search-what-is-azure-search/azure-search.svg)\n",
    "\n",
    "클라이언트 앱에서 검색 환경은 Azure AI 검색의 API를 통해 정의되며 관련성 튜닝, 의미 체계 순위 지정, 자동 완성, 동의어 일치, 유사 일치, 패턴 일치, 필터링 및 정렬이 이 환경에 포함될 수 있습니다.\n",
    "\n",
    "Azure 플랫폼에서 Azure AI 검색은 Azure 데이터 원본에서 데이터 수집/검색을 자동화하는 인덱서 형태, 이미지 및 자연어 처리와 같은 Azure AI 서비스의 소모성 AI 또는 Azure Machine Learning에서 만들거나 Azure Functions 내부에서 래핑하는 사용자 지정 AI를 통합하는 기술 세트 형태의 다른 Azure 서비스와 통합할 수 있습니다.\n",
    "\n",
    "> 📝 참고\n",
    ">\n",
    "> 더 자세한 내용은 [Azure AI 검색이란?](https://learn.microsoft.com/ko-kr/azure/search/search-what-is-azure-search) 을 참고해 주세요."
   ]
  },
  {
   "cell_type": "markdown",
   "metadata": {},
   "source": [
    "## 이 노트북의 목적\n",
    "\n",
    "- 이 노트북에서는 어휘 검색을 위해 인덱스(index) 생성, 문서(document)를 입력하는 indexing과 기본적인 검색 방법을 학습합니다."
   ]
  },
  {
   "cell_type": "markdown",
   "metadata": {},
   "source": [
    "### library 및 변수 셋팅"
   ]
  },
  {
   "cell_type": "code",
   "execution_count": 2,
   "metadata": {},
   "outputs": [],
   "source": [
    "from dotenv import load_dotenv\n",
    "from azure.identity import DefaultAzureCredential\n",
    "from azure.core.credentials import AzureKeyCredential\n",
    "from azure.search.documents.indexes import SearchIndexClient\n",
    "from azure.search.documents import SearchClient\n",
    "from azure.search.documents.indexes.models import (\n",
    "    ComplexField,\n",
    "    SimpleField,\n",
    "    SearchFieldDataType,\n",
    "    SearchableField,\n",
    "    SearchIndex\n",
    ")\n",
    "import os\n",
    "\n",
    "load_dotenv() # .env 에서 환경변수를 가져옵니다.\n",
    "\n",
    "endpoint = os.getenv(\"AZURE_SEARCH_SERVICE_ENDPOINT\")\n",
    "credential = AzureKeyCredential(os.getenv(\"AZURE_SEARCH_ADMIN_KEY\")) if os.getenv(\"AZURE_SEARCH_ADMIN_KEY\") else DefaultAzureCredential()\n",
    "\n",
    "index_name = \"hotels-quickstart\""
   ]
  },
  {
   "cell_type": "markdown",
   "metadata": {},
   "source": [
    "### Index 생성\n",
    "\n",
    "[SearchIndexClient](https://learn.microsoft.com/ko-kr/python/api/azure-search-documents/azure.search.documents.indexes.searchindexclient?view=azure-python)를 이용하여 index를 만듭니다.\n"
   ]
  },
  {
   "cell_type": "code",
   "execution_count": null,
   "metadata": {},
   "outputs": [
    {
     "name": "stdout",
     "output_type": "stream",
     "text": [
      " hotels-quickstart 생성\n"
     ]
    }
   ],
   "source": [
    "# 스키마 \n",
    "fields = [\n",
    "    SimpleField(name=\"HotelId\", type=SearchFieldDataType.String, key=True),\n",
    "    SearchableField(name=\"HotelName\", type=SearchFieldDataType.String, sortable=True),\n",
    "    SearchableField(name=\"Description\", type=SearchFieldDataType.String, analyzer_name=\"en.lucene\"),\n",
    "    SearchableField(name=\"Description_fr\", type=SearchFieldDataType.String, analyzer_name=\"fr.lucene\"),\n",
    "    SearchableField(name=\"Description_kr\", type=SearchFieldDataType.String, analyzer_name=\"ko.lucene\"),\n",
    "    SearchableField(name=\"Category\", type=SearchFieldDataType.String, facetable=True, filterable=True, sortable=True),\n",
    "\n",
    "    SearchableField(name=\"Tags\", collection=True, type=SearchFieldDataType.String, facetable=True, filterable=True),\n",
    "\n",
    "    SimpleField(name=\"ParkingIncluded\", type=SearchFieldDataType.Boolean, facetable=True, filterable=True, sortable=True),\n",
    "    SimpleField(name=\"LastRenovationDate\", type=SearchFieldDataType.DateTimeOffset, facetable=True, filterable=True, sortable=True),\n",
    "    SimpleField(name=\"Rating\", type=SearchFieldDataType.Double, facetable=True, filterable=True, sortable=True),\n",
    "\n",
    "    ComplexField(name=\"Address\", fields=[\n",
    "        SearchableField(name=\"StreetAddress\", type=SearchFieldDataType.String),\n",
    "        SearchableField(name=\"City\", type=SearchFieldDataType.String, facetable=True, filterable=True, sortable=True),\n",
    "        SearchableField(name=\"StateProvince\", type=SearchFieldDataType.String, facetable=True, filterable=True, sortable=True),\n",
    "        SearchableField(name=\"PostalCode\", type=SearchFieldDataType.String, facetable=True, filterable=True, sortable=True),\n",
    "        SearchableField(name=\"Country\", type=SearchFieldDataType.String, facetable=True, filterable=True, sortable=True),\n",
    "    ])\n",
    "]\n",
    "\n",
    "scoring_profiles = []\n",
    "suggester = [{'name': 'sg', 'source_fields': ['Tags', 'Address/City', 'Address/Country']}]\n",
    "\n",
    "# Index 생성\n",
    "index = SearchIndex(name=index_name, fields=fields, suggesters=suggester, scoring_profiles=scoring_profiles)\n",
    "index_client = SearchIndexClient(endpoint=endpoint, credential=credential)\n",
    "result = index_client.create_or_update_index(index)\n",
    "print(f' {result.name} 생성')\n"
   ]
  },
  {
   "cell_type": "markdown",
   "metadata": {},
   "source": [
    "### 입력할 document 데이터"
   ]
  },
  {
   "cell_type": "code",
   "execution_count": 17,
   "metadata": {},
   "outputs": [],
   "source": [
    "documents = [\n",
    "    {\n",
    "    \"@search.action\": \"upload\",\n",
    "    \"HotelId\": \"1\",\n",
    "    \"HotelName\": \"Secret Point Motel\",\n",
    "    \"Description\": \"The hotel is ideally located on the main commercial artery of the city in the heart of New York. A few minutes away is Time's Square and the historic centre of the city, as well as other places of interest that make New York one of America's most attractive and cosmopolitan cities.\",\n",
    "    \"Description_fr\": \"L'hôtel est idéalement situé sur la principale artère commerciale de la ville en plein cœur de New York. A quelques minutes se trouve la place du temps et le centre historique de la ville, ainsi que d'autres lieux d'intérêt qui font de New York l'une des villes les plus attractives et cosmopolites de l'Amérique.\",\n",
    "    \"Description_kr\": \"이 호텔은 뉴욕의 중심부에 있는 도시의 주요 상업 동맥에 이상적으로 위치해 있습니다. 몇 분 거리에 타임스 스퀘어와 뉴욕의 역사적인 중심지뿐만 아니라 뉴욕을 미국에서 가장 매력적이고 국제적인 도시로 만드는 다른 명소가 있습니다.\",\n",
    "    \"Category\": \"Boutique\",\n",
    "    \"Tags\": [ \"pool\", \"air conditioning\", \"concierge\" ],\n",
    "    \"ParkingIncluded\": \"false\",\n",
    "    \"LastRenovationDate\": \"1970-01-18T00:00:00Z\",\n",
    "    \"Rating\": 3.60,\n",
    "    \"Address\": {\n",
    "        \"StreetAddress\": \"677 5th Ave\",\n",
    "        \"City\": \"New York\",\n",
    "        \"StateProvince\": \"NY\",\n",
    "        \"PostalCode\": \"10022\",\n",
    "        \"Country\": \"USA\"\n",
    "        }\n",
    "    },\n",
    "    {\n",
    "    \"@search.action\": \"upload\",\n",
    "    \"HotelId\": \"2\",\n",
    "    \"HotelName\": \"Twin Dome Motel\",\n",
    "    \"Description\": \"The hotel is situated in a  nineteenth century plaza, which has been expanded and renovated to the highest architectural standards to create a modern, functional and first-class hotel in which art and unique historical elements coexist with the most modern comforts.\",\n",
    "    \"Description_fr\": \"L'hôtel est situé dans une place du XIXe siècle, qui a été agrandie et rénovée aux plus hautes normes architecturales pour créer un hôtel moderne, fonctionnel et de première classe dans lequel l'art et les éléments historiques uniques coexistent avec le confort le plus moderne.\",\n",
    "    \"Description_kr\": \"이 호텔은 19세기 광장에 위치해 있으며, 예술과 독특한 역사적 요소가 가장 현대적인 편안함과 공존하는 현대적이고 기능적인 일류 호텔을 만들기 위해 최고 수준의 건축 표준으로 확장 및 개조 되었습니다.\",\n",
    "    \"Category\": \"Boutique\",\n",
    "    \"Tags\": [ \"pool\", \"free wifi\", \"concierge\" ],\n",
    "    \"ParkingIncluded\": \"false\",\n",
    "    \"LastRenovationDate\": \"1979-02-18T00:00:00Z\",\n",
    "    \"Rating\": 3.60,\n",
    "    \"Address\": {\n",
    "        \"StreetAddress\": \"140 University Town Center Dr\",\n",
    "        \"City\": \"Sarasota\",\n",
    "        \"StateProvince\": \"FL\",\n",
    "        \"PostalCode\": \"34243\",\n",
    "        \"Country\": \"USA\"\n",
    "        }\n",
    "    },\n",
    "    {\n",
    "    \"@search.action\": \"upload\",\n",
    "    \"HotelId\": \"3\",\n",
    "    \"HotelName\": \"Triple Landscape Hotel\",\n",
    "    \"Description\": \"The Hotel stands out for its gastronomic excellence under the management of William Dough, who advises on and oversees all of the Hotel's restaurant services.\",\n",
    "    \"Description_fr\": \"L'hôtel est situé dans une place du XIXe siècle, qui a été agrandie et rénovée aux plus hautes normes architecturales pour créer un hôtel moderne, fonctionnel et de première classe dans lequel l'art et les éléments historiques uniques coexistent avec le confort le plus moderne.\",\n",
    "    \"Description_kr\": \"호텔의 모든 레스토랑 서비스를 자문하고 감독하는 윌리엄 도우(William Dough)의 관리 하에 뛰어난 미식 경험을 제공하는 것이 특징입니다.\",\n",
    "    \"Category\": \"Resort and Spa\",\n",
    "    \"Tags\": [ \"air conditioning\", \"bar\", \"continental breakfast\" ],\n",
    "    \"ParkingIncluded\": \"true\",\n",
    "    \"LastRenovationDate\": \"2015-09-20T00:00:00Z\",\n",
    "    \"Rating\": 4.80,\n",
    "    \"Address\": {\n",
    "        \"StreetAddress\": \"3393 Peachtree Rd\",\n",
    "        \"City\": \"Atlanta\",\n",
    "        \"StateProvince\": \"GA\",\n",
    "        \"PostalCode\": \"30326\",\n",
    "        \"Country\": \"USA\"\n",
    "        }\n",
    "    },\n",
    "    {\n",
    "    \"@search.action\": \"upload\",\n",
    "    \"HotelId\": \"4\",\n",
    "    \"HotelName\": \"Sublime Cliff Hotel\",\n",
    "    \"Description\": \"Sublime Cliff Hotel is located in the heart of the historic center of Sublime in an extremely vibrant and lively area within short walking distance to the sites and landmarks of the city and is surrounded by the extraordinary beauty of churches, buildings, shops and monuments. Sublime Cliff is part of a lovingly restored 1800 palace.\",\n",
    "    \"Description_fr\": \"Le sublime Cliff Hotel est situé au coeur du centre historique de sublime dans un quartier extrêmement animé et vivant, à courte distance de marche des sites et monuments de la ville et est entouré par l'extraordinaire beauté des églises, des bâtiments, des commerces et Monuments. Sublime Cliff fait partie d'un Palace 1800 restauré avec amour.\",\n",
    "    \"Description_kr\": \"수블림 클리프 호텔은 도시의 유적지와 랜드마크에서 도보로 가까운 거리에 있는 매우 활기차고 활기찬 수블림의 역사적인 중심지에 위치하고 있으며 교회, 건물, 상점 및 기념물의 특별한 아름다움으로 둘러싸여 있습니다. 수블림 클리프는 사랑스럽게 복원된 1800년 궁전의 일부입니다.\",\n",
    "    \"Category\": \"Boutique\",\n",
    "    \"Tags\": [ \"concierge\", \"view\", \"24-hour front desk service\" ],\n",
    "    \"ParkingIncluded\": \"true\",\n",
    "    \"LastRenovationDate\": \"1960-02-06T00:00:00Z\",\n",
    "    \"Rating\": 4.60,\n",
    "    \"Address\": {\n",
    "        \"StreetAddress\": \"7400 San Pedro Ave\",\n",
    "        \"City\": \"San Antonio\",\n",
    "        \"StateProvince\": \"TX\",\n",
    "        \"PostalCode\": \"78216\",\n",
    "        \"Country\": \"USA\"\n",
    "        }\n",
    "    }\n",
    "]"
   ]
  },
  {
   "cell_type": "markdown",
   "metadata": {},
   "source": [
    "### document indexing\n",
    "\n",
    "문서를 인덱스에 인덱싱 합니다.\n",
    "\n",
    "이를 위해 사용하는 SearchClien class에 대해 더 자세한 내용은 [SearchClient](https://learn.microsoft.com/ko-kr/python/api/azure-search-documents/azure.search.documents.searchclient?view=azure-python)에서 확인 할 수 있습니다."
   ]
  },
  {
   "cell_type": "code",
   "execution_count": 5,
   "metadata": {},
   "outputs": [],
   "source": [
    "search_client = SearchClient(\n",
    "    endpoint=endpoint,\n",
    "    credential=credential,\n",
    "    index_name=index_name)"
   ]
  },
  {
   "cell_type": "code",
   "execution_count": 18,
   "metadata": {},
   "outputs": [
    {
     "name": "stdout",
     "output_type": "stream",
     "text": [
      "Upload of new document succeeded: True\n"
     ]
    }
   ],
   "source": [
    "# 문서(document)를 indexing 합니다.\n",
    "try:\n",
    "    result = search_client.upload_documents(documents=documents)\n",
    "    print(\"Upload of new document succeeded: {}\".format(result[0].succeeded))\n",
    "except Exception as ex:\n",
    "    print (ex.message)"
   ]
  },
  {
   "cell_type": "markdown",
   "metadata": {},
   "source": [
    "### 검색\n",
    "\n",
    "[SearchIndex](https://learn.microsoft.com/ko-kr/python/api/azure-search-documents/azure.search.documents.indexes.models.searchindex?view=azure-python)를 이용하여 검색을 수행 합니다.\n",
    "\n",
    "search 함수에 대한 더 자세한 내용은 [search](https://learn.microsoft.com/ko-kr/python/api/azure-search-documents/azure.search.documents.searchclient?view=azure-python#azure-search-documents-searchclient-search)에서 확인 할 수 있습니다."
   ]
  },
  {
   "cell_type": "code",
   "execution_count": 21,
   "metadata": {},
   "outputs": [
    {
     "name": "stdout",
     "output_type": "stream",
     "text": [
      "Total Documents Matching Query: 4\n",
      "1.0\n",
      "Triple Landscape Hotel\n",
      "Description: The Hotel stands out for its gastronomic excellence under the management of William Dough, who advises on and oversees all of the Hotel's restaurant services.\n",
      "1.0\n",
      "Twin Dome Motel\n",
      "Description: The hotel is situated in a  nineteenth century plaza, which has been expanded and renovated to the highest architectural standards to create a modern, functional and first-class hotel in which art and unique historical elements coexist with the most modern comforts.\n",
      "1.0\n",
      "Sublime Cliff Hotel\n",
      "Description: Sublime Cliff Hotel is located in the heart of the historic center of Sublime in an extremely vibrant and lively area within short walking distance to the sites and landmarks of the city and is surrounded by the extraordinary beauty of churches, buildings, shops and monuments. Sublime Cliff is part of a lovingly restored 1800 palace.\n",
      "1.0\n",
      "Secret Point Motel\n",
      "Description: The hotel is ideally located on the main commercial artery of the city in the heart of New York. A few minutes away is Time's Square and the historic centre of the city, as well as other places of interest that make New York one of America's most attractive and cosmopolitan cities.\n"
     ]
    }
   ],
   "source": [
    "# 모든 document 를 검색하고, HotelName, Description 를 반환 합니다.\n",
    "results =  search_client.search(query_type='simple',\n",
    "    search_text=\"*\" ,\n",
    "    select='HotelName,Description',\n",
    "    include_total_count=True)\n",
    "\n",
    "# 검색 결과로 HotelName, Description 필드와 함께 검색 score도 표시합니다. \n",
    "print ('Total Documents Matching Query:', results.get_count())\n",
    "for result in results:\n",
    "    print(result[\"@search.score\"])\n",
    "    print(result[\"HotelName\"])\n",
    "    print(f\"Description: {result['Description']}\")"
   ]
  },
  {
   "cell_type": "markdown",
   "metadata": {},
   "source": [
    "### 검색어로 쿼리\n",
    "\n",
    "검색어로 검색합니다."
   ]
  },
  {
   "cell_type": "code",
   "execution_count": 15,
   "metadata": {},
   "outputs": [
    {
     "name": "stdout",
     "output_type": "stream",
     "text": [
      "Total Documents Matching Query: 1\n",
      "0.71279967\n",
      "Twin Dome Motel\n",
      "Description: The hotel is situated in a  nineteenth century plaza, which has been expanded and renovated to the highest architectural standards to create a modern, functional and first-class hotel in which art and unique historical elements coexist with the most modern comforts.\n"
     ]
    }
   ],
   "source": [
    "# 'wifi'로 검색하고, HotelName, Description 를 반환 합니다.\n",
    "results =  search_client.search(query_type='simple',\n",
    "    search_text=\"century\" ,\n",
    "    select='HotelName,Description,Tags',\n",
    "    include_total_count=True)\n",
    "\n",
    "print ('Total Documents Matching Query:', results.get_count())\n",
    "for result in results:\n",
    "    print(result[\"@search.score\"])\n",
    "    print(result[\"HotelName\"])\n",
    "    print(f\"Description: {result['Description']}\")"
   ]
  },
  {
   "cell_type": "code",
   "execution_count": 6,
   "metadata": {},
   "outputs": [
    {
     "name": "stdout",
     "output_type": "stream",
     "text": [
      "Total Documents Matching Query: 1\n",
      "1.7906771\n",
      "Sublime Cliff Hotel\n",
      "Description: Sublime Cliff Hotel is located in the heart of the historic center of Sublime in an extremely vibrant and lively area within short walking distance to the sites and landmarks of the city and is surrounded by the extraordinary beauty of churches, buildings, shops and monuments. Sublime Cliff is part of a lovingly restored 1800 palace.\n"
     ]
    }
   ],
   "source": [
    "# '클리프'로 검색하고, HotelName, Description 를 반환 합니다.\n",
    "results =  search_client.search(query_type='simple',\n",
    "    search_text=\"클리프\" ,\n",
    "    select='HotelName,Description,Tags',\n",
    "    include_total_count=True)\n",
    "\n",
    "print ('Total Documents Matching Query:', results.get_count())\n",
    "for result in results:\n",
    "    print(result[\"@search.score\"])\n",
    "    print(result[\"HotelName\"])\n",
    "    print(f\"Description: {result['Description']}\")"
   ]
  },
  {
   "cell_type": "markdown",
   "metadata": {},
   "source": [
    "### 필터(Filter)\n",
    "\n",
    "검색 시 원하는 조건의 document를 필터링 하여 가져올 때 사용합니다."
   ]
  },
  {
   "cell_type": "code",
   "execution_count": 22,
   "metadata": {},
   "outputs": [
    {
     "name": "stdout",
     "output_type": "stream",
     "text": [
      "3: Triple Landscape Hotel - 4.8 rating\n",
      "4: Sublime Cliff Hotel - 4.6 rating\n"
     ]
    }
   ],
   "source": [
    "# 'hotels' 로 검색하고, Rating 필드에서 4이상인 document를 가져온 후 Rating 필드 점수의 역순으로 정렬합니다.\n",
    "results = search_client.search(\n",
    "    search_text=\"hotels\", \n",
    "    select='HotelId,HotelName,Rating', \n",
    "    filter='Rating gt 4', \n",
    "    order_by='Rating desc')\n",
    "\n",
    "for result in results:\n",
    "    print(\"{}: {} - {} rating\".format(result[\"HotelId\"], result[\"HotelName\"], result[\"Rating\"]))"
   ]
  },
  {
   "cell_type": "markdown",
   "metadata": {},
   "source": [
    "### 특정 필드에서 검색\n",
    "\n",
    "특정 필드를 대상으로 검색을 수행 할 때 사용합니다."
   ]
  },
  {
   "cell_type": "code",
   "execution_count": 23,
   "metadata": {},
   "outputs": [
    {
     "name": "stdout",
     "output_type": "stream",
     "text": [
      "4: Sublime Cliff Hotel\n"
     ]
    }
   ],
   "source": [
    "# HotelName 필드에서만 검색합니다.\n",
    "\n",
    "results = search_client.search(\n",
    "    search_text=\"sublime\", \n",
    "    search_fields=['HotelName'], \n",
    "    select='HotelId,HotelName')\n",
    "\n",
    "for result in results:\n",
    "    print(\"{}: {}\".format(result[\"HotelId\"], result[\"HotelName\"]))"
   ]
  },
  {
   "cell_type": "markdown",
   "metadata": {},
   "source": [
    "### Facets\n",
    "\n",
    "검색 시 입력한 조건에 대해 각가에 대한 결과 개수를 확인 할 수 있습니다. "
   ]
  },
  {
   "cell_type": "code",
   "execution_count": 27,
   "metadata": {},
   "outputs": [
    {
     "name": "stdout",
     "output_type": "stream",
     "text": [
      "Boutique - 3\n",
      "Resort and Spa - 1\n"
     ]
    }
   ],
   "source": [
    "# 모든 document 를 검색하고, Category 별로 검색 결과 개수를 가져옵니다. \n",
    "results = search_client.search(search_text=\"*\", facets=[\"Category\"])\n",
    "\n",
    "facets = results.get_facets()\n",
    "\n",
    "for facet in facets[\"Category\"]:\n",
    "    print(\"{} - {}\".format(facet['value'], facet['count']))"
   ]
  },
  {
   "cell_type": "markdown",
   "metadata": {},
   "source": [
    "### document id로 검색\n",
    "\n",
    "indexing 된 document 들은 id를 가지게 되며, 해당 id로 문서를 검색 할 수 있습니다.\n",
    "여기에 사용 될 필드는 인덱스 생성 시 key attribute를 true로 설정합니다.\n",
    "\n",
    "이 예제에서는 HotelId를 key로 설정하였습니다.\n",
    "\n",
    "``` python\n",
    "SimpleField(name=\"HotelId\", type=SearchFieldDataType.String, key=True),\n",
    "```\n",
    "\n",
    "[get_document](https://learn.microsoft.com/ko-kr/python/api/azure-search-documents/azure.search.documents.searchclient?view=azure-python#azure-search-documents-searchclient-autocomplete) 에서 더 자세한 내용을 확인 할 수 있습니다."
   ]
  },
  {
   "cell_type": "code",
   "execution_count": 30,
   "metadata": {},
   "outputs": [
    {
     "name": "stdout",
     "output_type": "stream",
     "text": [
      "Details for hotel '3' are:\n",
      "Name: Triple Landscape Hotel\n",
      "Rating: 4.8\n",
      "Category: Resort and Spa\n"
     ]
    }
   ],
   "source": [
    "# 특정 document id로 검색\n",
    "result = search_client.get_document(key=\"3\")\n",
    "\n",
    "print(\"Details for hotel '3' are:\")\n",
    "print(\"Name: {}\".format(result[\"HotelName\"]))\n",
    "print(\"Rating: {}\".format(result[\"Rating\"]))\n",
    "print(\"Category: {}\".format(result[\"Category\"]))"
   ]
  },
  {
   "cell_type": "markdown",
   "metadata": {},
   "source": [
    "### 쿼리 자동완성\n",
    "\n",
    "쿼리 자동완성은 쿼리 생산성을 개선하기 위한 기술입니다. </br>\n",
    "Azure AI Search에서는 부분 입력에 따라 용어 또는 구를 완성하는 자동 완성을 통해 이를 지원됩니다.</p>\n",
    "\n",
    "index 생성 시 입력한 suggester의 source_fields 의 내용을 기반으로 자동완성 내용을 반환합니다.</br>\n",
    "\n",
    "```\n",
    "suggester = [{'name': 'sg', 'source_fields': ['Tags', 'Address/City', 'Address/Country']}]\n",
    "```\n",
    "\n",
    "[autocomplete](https://learn.microsoft.com/ko-kr/python/api/azure-search-documents/azure.search.documents.searchclient?view=azure-python#azure-search-documents-searchclient-autocomplete) 에서 더 자세한 내용을 확인 할 수 있습니다."
   ]
  },
  {
   "cell_type": "code",
   "execution_count": 32,
   "metadata": {},
   "outputs": [
    {
     "name": "stdout",
     "output_type": "stream",
     "text": [
      "Autocomplete for: sa\n",
      "san antonio\n",
      "sarasota\n"
     ]
    }
   ],
   "source": [
    "# Autocomplete a query\n",
    "search_suggestion = 'sa'\n",
    "results = search_client.autocomplete(\n",
    "    search_text=search_suggestion, \n",
    "    suggester_name=\"sg\",\n",
    "    mode='twoTerms')\n",
    "\n",
    "print(\"Autocomplete for:\", search_suggestion)\n",
    "for result in results:\n",
    "    print (result['text'])"
   ]
  },
  {
   "cell_type": "markdown",
   "metadata": {},
   "source": [
    "### index 삭제"
   ]
  },
  {
   "cell_type": "code",
   "execution_count": 12,
   "metadata": {},
   "outputs": [
    {
     "name": "stdout",
     "output_type": "stream",
     "text": [
      "Index hotels-quickstart Deleted\n"
     ]
    }
   ],
   "source": [
    "# index 삭제\n",
    "\n",
    "try:\n",
    "    result = index_client.delete_index(index_name)\n",
    "    print ('Index', index_name, 'Deleted')\n",
    "except Exception as ex:\n",
    "    print (ex)"
   ]
  },
  {
   "cell_type": "code",
   "execution_count": 15,
   "metadata": {},
   "outputs": [
    {
     "name": "stdout",
     "output_type": "stream",
     "text": [
      "() No index with the name 'hotels-quickstart' was found in the service 'dev-ai-search-west-us-01'.\n",
      "Code: \n",
      "Message: No index with the name 'hotels-quickstart' was found in the service 'dev-ai-search-west-us-01'.\n"
     ]
    }
   ],
   "source": [
    "# 인덱스가 지워졌는지 다시 확인.\n",
    "# 정상적으로 삭제가 되었다면, index를 찾지 못해 오류가 발생합니다.\n",
    "# 삭제가 되지 않앟다면 해당 인덱스가 나오게 됩니다.\n",
    "\n",
    "try:\n",
    "    result = index_client.get_index(index_name)\n",
    "    print (result)\n",
    "except Exception as ex:\n",
    "    print (ex)"
   ]
  }
 ],
 "metadata": {
  "kernelspec": {
   "display_name": "Python 3",
   "language": "python",
   "name": "python3"
  },
  "language_info": {
   "codemirror_mode": {
    "name": "ipython",
    "version": 3
   },
   "file_extension": ".py",
   "mimetype": "text/x-python",
   "name": "python",
   "nbconvert_exporter": "python",
   "pygments_lexer": "ipython3",
   "version": "3.11.4"
  }
 },
 "nbformat": 4,
 "nbformat_minor": 2
}
