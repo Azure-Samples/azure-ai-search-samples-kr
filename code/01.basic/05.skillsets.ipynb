{
 "cells": [
  {
   "cell_type": "markdown",
   "metadata": {},
   "source": [
    "## 기술 세트(Skillset)\n",
    "\n",
    "기술 세트(Skillset) 이미지 또는 비정형 텍스트가 포함된 문서에서 텍스트 콘텐츠 및 구조를 생성하는 작업을 정의합니다. 이미지에 대한 OCR, 개체 인식이 되었으나 특정할 수 없는 텍스트 및 텍스트 번역을 예로 들 수 있습니다. 기술 세트는 외부 데이터 원본에서 텍스트 및 이미지를 추출한 후 필드 매핑이 처리된 이후에 실행됩니다.\n",
    "\n",
    "기술 세트 정의에 대한 규칙은 다음과 같습니다.\n",
    "\n",
    "- 기술 세트 컬렉션 내의 고유한 이름. 기술 세트는 모든 인덱서에서 사용할 수 있는 최상위 리소스입니다.\n",
    "- 하나 이상의 기술. 3~5개의 기술이 일반적입니다. 최댓값은 30입니다.\n",
    "- 기술 세트는 동일한 유형의 기술(예: 여러 Shaper 기술)을 반복할 수 있습니다.\n",
    "- 기술 세트는 연결된 작업, 루핑 및 분기를 지원합니다.\n",
    "- 인덱서는 기술 세트 실행을 주도합니다. 기술 세트를 테스트하기 전에 인덱서, 데이터 원본 및 인덱스가 필요합니다.\n",
    "\n",
    "> 📝 참고\n",
    ">\n",
    "> 더 자세한 내용은 [Azure AI 검색에서 기술 세트 만들기](https://learn.microsoft.com/ko-kr/azure/search/cognitive-search-defining-skillset) 을 참고해 주세요."
   ]
  },
  {
   "cell_type": "markdown",
   "metadata": {},
   "source": []
  }
 ],
 "metadata": {
  "language_info": {
   "name": "python"
  }
 },
 "nbformat": 4,
 "nbformat_minor": 2
}
