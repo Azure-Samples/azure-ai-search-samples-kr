{
 "cells": [
  {
   "cell_type": "markdown",
   "metadata": {},
   "source": [
    "# Azure AI Search 란?\n",
    "\n",
    "Azure AI Search([이전의 \"Azure Cognitive Search\"](https://learn.microsoft.com/ko-kr/azure/search/whats-new#new-service-name))는 모든 규모의 고성능 애플리케이션을 위해 빌드된 포괄적인 고급 검색 기술을 갖춘 엔터프라이즈 지원 검색 및 검색 시스템입니다.\n",
    "\n",
    "Azure AI Search는 Azure OpenAI Service와 Azure Machine Learning 간의 네이티브 LLM 통합을 통해 Azure에서 RAG 기반 애플리케이션을 빌드할 때 권장되는 기본 검색 시스템입니다.\n",
    "\n",
    "Azure AI Search는 기존 시나리오와 GenAI 시나리오 모두에서 사용할 수 있습니다. 일반적인 사용 사례로는 기술 자료 인사이트(카탈로그 또는 문서 검색), 정보 검색(데이터 탐색), RAG(검색 보강 생성) 및 자동화가 포함됩니다.\n",
    "\n",
    "검색 서비스를 만들 때 다음 기능을 사용합니다.\n",
    "\n",
    "- 검색 인덱스를 통한 [벡터 검색](https://learn.microsoft.com/ko-kr/azure/search/vector-search-overview) 및 전체 텍스트 및 [하이브리드 검색](https://learn.microsoft.com/ko-kr/azure/search/hybrid-search-overview)에 사용되는 검색 엔진\n",
    "- [통합 데이터 청크 및 벡터화](https://learn.microsoft.com/ko-kr/azure/search/vector-search-integrated-vectorization), 텍스트 [어휘 분석](https://learn.microsoft.com/ko-kr/azure/search/search-analyzers), 콘텐츠 추출 및 변환을 위한 [선택적 응용 AI](https://learn.microsoft.com/ko-kr/azure/search/cognitive-search-concept-intro)를 통한 풍부한 인덱싱\n",
    "- [벡터 쿼리](https://learn.microsoft.com/ko-kr/azure/search/vector-search-how-to-query), 텍스트 검색, [하이브리드 쿼리](https://learn.microsoft.com/ko-kr/azure/search/hybrid-search-how-to-query), 유사 항목 검색, 자동 완성, 지역 검색 등을 위한 풍부한 쿼리 구문\n",
    "- [의미론적 순위 지정](https://learn.microsoft.com/ko-kr/azure/search/semantic-search-overview), [채점 프로필](https://learn.microsoft.com/ko-kr/azure/search/index-add-scoring-profiles), [벡터 쿼리에 대한 양자화](https://learn.microsoft.com/ko-kr/azure/search/vector-search-how-to-configure-compression-storage) 및 런타임 시 쿼리 동작을 제어하기 위한 매개 변수를 사용하여 관련성 및 쿼리 성능 조정\n",
    "- Azure 규모, 보안 및 도달률\n",
    "- 데이터 레이어, 기계 학습 레이어, Azure AI 서비스 및 Azure OpenAI에서 Azure 통합\n",
    "\n",
    "구조적으로 검색 서비스는 인덱싱되지 않은 데이터를 포함하는 외부 데이터 저장소와 검색 인덱스에 쿼리 요청을 보내고 응답을 처리하는 클라이언트 앱 사이에 배치됩니다.\n",
    "\n",
    "![Azure AI 검색 아키텍처](https://learn.microsoft.com/ko-kr/azure/search/media/search-what-is-azure-search/azure-search.svg)\n",
    "\n",
    "클라이언트 앱에서 검색 환경은 Azure AI 검색의 API를 통해 정의되며 관련성 튜닝, 의미 체계 순위 지정, 자동 완성, 동의어 일치, 유사 일치, 패턴 일치, 필터링 및 정렬이 이 환경에 포함될 수 있습니다.\n",
    "\n",
    "Azure 플랫폼에서 Azure AI 검색은 Azure 데이터 원본에서 데이터 수집/검색을 자동화하는 인덱서 형태, 이미지 및 자연어 처리와 같은 Azure AI 서비스의 소모성 AI 또는 Azure Machine Learning에서 만들거나 Azure Functions 내부에서 래핑하는 사용자 지정 AI를 통합하는 기술 세트 형태의 다른 Azure 서비스와 통합할 수 있습니다.\n",
    "\n",
    "> 📝 참고\n",
    ">\n",
    "> 더 자세한 내용은 [Azure AI 검색이란?](https://learn.microsoft.com/ko-kr/azure/search/search-what-is-azure-search) 을 참고해 주세요."
   ]
  },
  {
   "cell_type": "markdown",
   "metadata": {},
   "source": [
    "### Search service 생성\n",
    "\n",
    "Azure Potal 생성하려면 [포털에서 Azure AI 검색 서비스 만들기](https://learn.microsoft.com/ko-kr/azure/search/search-create-service-portal) 를 참고하시면 되며, [Azure PowerShell](https://learn.microsoft.com/ko-kr/azure/search/search-manage-powershell#create-or-delete-a-service), [Azure CLI](https://learn.microsoft.com/ko-kr/azure/search/search-manage-azure-cli#create-or-delete-a-service), [Management REST API](https://learn.microsoft.com/ko-kr/azure/search/search-manage-rest#create-or-update-a-service), [Azure Resource Manager 서비스 템플릿](https://learn.microsoft.com/ko-kr/azure/search/search-get-started-arm), [Bicep 파일](https://learn.microsoft.com/ko-kr/azure/search/search-get-started-bicep) 또는 [Terraform](https://learn.microsoft.com/ko-kr/azure/search/search-get-started-terraform)을 사용할 수도 있습니다.\n",
    "\n",
    "\n",
    "![Crate Search SErvice](https://learn.microsoft.com/ko-kr/azure/search/media/search-create-service-portal/animatedgif-azuresearch.gif#lightbox)"
   ]
  },
  {
   "cell_type": "markdown",
   "metadata": {},
   "source": []
  }
 ],
 "metadata": {
  "language_info": {
   "name": "python"
  }
 },
 "nbformat": 4,
 "nbformat_minor": 2
}
