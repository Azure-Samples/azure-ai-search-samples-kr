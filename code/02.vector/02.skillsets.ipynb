{
 "cells": [
  {
   "cell_type": "markdown",
   "metadata": {},
   "source": [
    "## 기술 세트(Skillset)\n",
    "\n",
    "기술 세트(Skillset)는 [인덱서(Indexer)](https://learn.microsoft.com/ko-kr/azure/search/search-indexer-overview)에 연결된 Azure AI 검색의 재사용 가능한 개체입니다. 여기에는 외부 데이터 원본에서 검색된 문서에 대해 기본 제공 AI 또는 외부 사용자 지정 처리를 호출하는 하나 이상의 기술이 포함되어 있습니다.\n",
    "\n",
    "예를 들어, 이미지 또는 비정형 텍스트가 포함된 문서에서 텍스트 콘텐츠 및 구조를 생성하는 작업을 정의하고, 이미지에 대한 OCR, 개체 인식이 되었으나 특정할 수 없는 텍스트 번역등을 수행 할 수 있습니다. 기술 세트는 외부 데이터 원본에서 텍스트 및 이미지를 추출한 후 필드 매핑이 처리된 이후에 실행됩니다.\n",
    "\n",
    "![Skillset process diagram](https://learn.microsoft.com/ko-kr/azure/search/media/cognitive-search-working-with-skillsets/skillset-process-diagram-1.png)\n",
    "\n",
    "기술(Skill)은 Microsoft의 [기본 제공 기술](https://learn.microsoft.com/ko-kr/azure/search/cognitive-search-predefined-skills)이거나 외부에서 호스트하는 처리 논리에 대한 [사용자 지정 기술](https://learn.microsoft.com/ko-kr/azure/search/cognitive-search-create-custom-skill-example)일 수 있습니다. 기술 세트는 인덱싱 중에 사용되거나 지식 저장소에 프로젝션되는 보강된 문서를 생성합니다.\n",
    "\n",
    "기술 세트 정의에 대한 규칙은 다음과 같습니다.\n",
    "\n",
    "- 기술 세트 컬렉션 내의 고유한 이름. 기술 세트는 모든 인덱서에서 사용할 수 있는 최상위 리소스입니다.\n",
    "- 하나 이상의 기술. 3~5개의 기술이 일반적입니다. 최댓값은 30입니다.\n",
    "- 기술 세트는 동일한 유형의 기술(예: 여러 Shaper 기술)을 반복할 수 있습니다.\n",
    "- 기술 세트는 연결된 작업, 루핑 및 분기를 지원합니다.\n",
    "- 인덱서는 기술 세트 실행을 주도합니다. 기술 세트를 테스트하기 전에 인덱서, 데이터 원본 및 인덱스가 필요합니다.\n",
    "\n",
    "> 📝 참고\n",
    ">\n",
    "> 더 자세한 내용은 [Azure AI 검색에서의 기술 세트 개념](https://learn.microsoft.com/ko-kr/azure/search/cognitive-search-working-with-skillsets), [Azure AI 검색에서 기술 세트 만들기](https://learn.microsoft.com/ko-kr/azure/search/cognitive-search-defining-skillset) 을 참고해 주세요."
   ]
  },
  {
   "cell_type": "markdown",
   "metadata": {},
   "source": [
    "## 텍스트 분할 예제\n",
    "\n",
    "이 예제에서는 [문서 분할(Text Split)](https://learn.microsoft.com/azure/search/cognitive-search-skill-textsplit)을 통해 데이터 청킹(data chunking) 하는 과정을 보여줍니다.\n",
    ">문서 분할은 문서를 특정 길이의 더 작은 덩어리로 잘라내는 것으로(예를 들어 10,000자의 문서를 100 혹은 200자 단위로 잘라내는 행위), 벡터 검색에서 자주 사용하는 방법입니다. 조금 더 자세한 내용은 [Azure AI 검색에서 벡터 검색 솔루션에 대한 대용량 문서 청크](https://learn.microsoft.com/ko-kr/azure/search/vector-search-how-to-chunk-documents)를 참고하세요.\n",
    "\n",
    "[AzureOpenAIEmbedding](https://learn.microsoft.com/azure/search/cognitive-search-skill-azure-openai-embedding)은 사용자가 환경 변수에 제공한 연결 정보를 사용하여 Azure OpenAI에 대한 호출을 처리합니다. [인덱서 프로젝션(Indexer projection)](https://learn.microsoft.com/ko-kr/azure/search/search-how-to-define-index-projections)은 청크된 데이터에 사용되는 보조 인덱스를 지정합니다."
   ]
  },
  {
   "cell_type": "code",
   "execution_count": 64,
   "metadata": {},
   "outputs": [],
   "source": [
    "import os\n",
    "import json\n",
    "from dotenv import load_dotenv\n",
    "from openai import AzureOpenAI\n",
    "from azure.identity import DefaultAzureCredential, get_bearer_token_provider\n",
    "from azure.core.credentials import AzureKeyCredential\n",
    "from azure.search.documents.indexes import SearchIndexClient, SearchIndexerClient\n",
    "from azure.search.documents import SearchClient\n",
    "from azure.search.documents.indexes.models import (\n",
    "    SimpleField,\n",
    "    SearchFieldDataType,\n",
    "    SearchableField,\n",
    "    SearchField,\n",
    "    VectorSearch,\n",
    "    HnswAlgorithmConfiguration,\n",
    "    VectorSearchProfile,\n",
    "    SearchIndexer,\n",
    "    SearchIndex,\n",
    "    AzureOpenAIVectorizer,\n",
    "    AzureOpenAIParameters,\n",
    "    SearchIndexerDataSourceConnection,\n",
    "    SearchIndexerDataContainer,\n",
    "    SearchIndexerSkillset,\n",
    "    InputFieldMappingEntry,\n",
    "    OutputFieldMappingEntry,\n",
    "    SplitSkill,\n",
    "    AzureOpenAIEmbeddingSkill,\n",
    "    SearchIndexerIndexProjections,\n",
    "    SearchIndexerIndexProjectionSelector,\n",
    "    SearchIndexerIndexProjectionsParameters,\n",
    "    TextSplitMode\n",
    ")\n",
    "\n",
    "load_dotenv(override=True)\n",
    "\n",
    "endpoint = os.getenv(\"AZURE_SEARCH_SERVICE_ENDPOINT\")\n",
    "credential = AzureKeyCredential(os.getenv(\"AZURE_SEARCH_ADMIN_KEY\", \"\")) if len(os.getenv(\"AZURE_SEARCH_ADMIN_KEY\", \"\")) > 0 else DefaultAzureCredential()\n",
    "\n",
    "search_datasource = os.environ[\"AZURE_SEARCH_DATASOURCE\"]\n",
    "\n",
    "azure_openai_endpoint = os.getenv(\"AZURE_OPENAI_ENDPOINT\")\n",
    "azure_openai_key = os.getenv(\"AZURE_OPENAI_KEY\", \"\") if len(os.getenv(\"AZURE_OPENAI_KEY\", \"\")) > 0 else None\n",
    "azure_openai_embedding_deployment = os.getenv(\"AZURE_OPENAI_EMBEDDING_DEPLOYMENT\", \"text-embedding-ada-002\")\n",
    "azure_openai_embedding_dimensions = int(os.getenv(\"AZURE_OPENAI_EMBEDDING_DIMENSIONS\", 1536))\n",
    "azure_openai_api_version = os.getenv(\"AZURE_OPENAI_API_VERSION\", \"2024-06-01\")\n",
    "\n",
    "index_name = \"skillset-split-text-test\"\n",
    "\n",
    "index_client = SearchIndexClient(endpoint=endpoint, credential=credential)"
   ]
  },
  {
   "cell_type": "markdown",
   "metadata": {},
   "source": [
    "### skillset 용 index 생성"
   ]
  },
  {
   "cell_type": "code",
   "execution_count": 65,
   "metadata": {},
   "outputs": [
    {
     "name": "stdout",
     "output_type": "stream",
     "text": [
      "'skillset-split-text-test' 인덱스 삭제.\n"
     ]
    }
   ],
   "source": [
    "# index가 존재하면 삭제\n",
    "try:\n",
    "    index_client.get_index(index_name)\n",
    "    index_client.delete_index(index_name)\n",
    "    print(f\"'{index_name}' 인덱스 삭제.\")\n",
    "except Exception as e:\n",
    "    print(f\"'{index_name}' 인덱스가 존재하지 않거나 삭제가 되지 않았습니다.: {e}\")"
   ]
  },
  {
   "cell_type": "code",
   "execution_count": 84,
   "metadata": {},
   "outputs": [],
   "source": [
    "# 스키마 \n",
    "fields=[\n",
    "    SearchField(\n",
    "        name=\"chunk_id\",\n",
    "        type=SearchFieldDataType.String,\n",
    "        key=True,\n",
    "        hidden=False,\n",
    "        filterable=True,\n",
    "        sortable=True,\n",
    "        facetable=False,\n",
    "        searchable=True,\n",
    "        analyzer_name=\"keyword\"\n",
    "    ),\n",
    "    SearchField(\n",
    "        name=\"parent_id\",\n",
    "        type=SearchFieldDataType.String,\n",
    "        hidden=False,\n",
    "        filterable=True,\n",
    "        sortable=True,\n",
    "        facetable=False,\n",
    "        searchable=True\n",
    "    ),\n",
    "    SearchField(\n",
    "        name=\"chunk\",\n",
    "        type=SearchFieldDataType.String,\n",
    "        hidden=False,\n",
    "        filterable=False,\n",
    "        sortable=False,\n",
    "        facetable=False,\n",
    "        searchable=True\n",
    "    ),\n",
    "    SearchField(\n",
    "        name=\"title\",\n",
    "        type=SearchFieldDataType.String,\n",
    "        hidden=False,\n",
    "        filterable=False,\n",
    "        sortable=False,\n",
    "        facetable=False,\n",
    "        searchable=True\n",
    "    ),\n",
    "    SearchField(\n",
    "        name=\"vector\",\n",
    "        type=SearchFieldDataType.Collection(SearchFieldDataType.Single),\n",
    "        hidden=False,\n",
    "        filterable=False,\n",
    "        sortable=False,\n",
    "        facetable=False,\n",
    "        searchable=True,\n",
    "        vector_search_dimensions=azure_openai_embedding_dimensions,\n",
    "        vector_search_profile_name=\"profile\"\n",
    "    )\n",
    "]\n",
    "\n",
    "# 벡터 검색 구성\n",
    "vector_search = VectorSearch(\n",
    "    profiles=[\n",
    "        VectorSearchProfile(\n",
    "            name=\"profile\",\n",
    "            algorithm_configuration_name=\"hnsw-algorithm\",\n",
    "            vectorizer=\"azure-openai-vectorizer\"\n",
    "        )\n",
    "    ],\n",
    "    algorithms=[\n",
    "        HnswAlgorithmConfiguration(name=\"hnsw-algorithm\")\n",
    "    ],\n",
    "    vectorizers=[\n",
    "        AzureOpenAIVectorizer(\n",
    "                name=\"azure-openai-vectorizer\",\n",
    "                azure_open_ai_parameters=AzureOpenAIParameters(\n",
    "                    resource_uri=azure_openai_endpoint,\n",
    "                    deployment_id=azure_openai_embedding_deployment,\n",
    "                    model_name = azure_openai_embedding_deployment,\n",
    "                    api_key=azure_openai_key\n",
    "                )\n",
    "            )\n",
    "    ]\n",
    ")\n",
    "\n",
    "index = SearchIndex(\n",
    "    name = index_name,\n",
    "    fields = fields,\n",
    "    vector_search = vector_search)\n",
    "result = index_client.create_or_update_index(index)"
   ]
  },
  {
   "cell_type": "markdown",
   "metadata": {},
   "source": [
    "### Datasource 생성\n",
    "\n",
    "Indexer에서 사용할 Datasoruce를 생성합니다.\n",
    "\n",
    "이 예제에서는 Auzre Blob Storage를 Data Soruce로 사용 합니다."
   ]
  },
  {
   "cell_type": "markdown",
   "metadata": {},
   "source": [
    "#### Datasource로 사용 할 Blob Storage에 container 생성 후 샘플 파일을 업로드"
   ]
  },
  {
   "cell_type": "code",
   "execution_count": null,
   "metadata": {},
   "outputs": [],
   "source": [
    "from azure.storage.blob import BlobServiceClient, BlobClient, ContainerClient\n",
    "\n",
    "# Azure Blob Storage connection string\n",
    "connection_string = os.getenv(\"AZURE_BLOB_CONNECTION_STRING\")\n",
    "\n",
    "# BlobServiceClient object 생성\n",
    "blob_service_client = BlobServiceClient.from_connection_string(connection_string)"
   ]
  },
  {
   "cell_type": "code",
   "execution_count": 83,
   "metadata": {},
   "outputs": [
    {
     "name": "stdout",
     "output_type": "stream",
     "text": [
      "skillset-container가 이미 존재합니다.\n",
      "\n",
      "azure-search-partial.pdf 파일이 skillset-container 컨테이너로 업로드 되었습니다.\n"
     ]
    }
   ],
   "source": [
    "# 예제용 컨테이너(container) 생성 후 pdf 파일 업로드\n",
    "\n",
    "# 컨테이너 생성\n",
    "container_name = \"skillset-container\"\n",
    "container_client = blob_service_client.get_container_client(container_name)\n",
    "try:\n",
    "    container_client.get_container_properties()\n",
    "    print(f\"{container_name}가 이미 존재합니다.\")\n",
    "except Exception as e:\n",
    "    container_client.create_container()\n",
    "    print(f\"'{container_name}' 컨테이너를 생성하였습니다.\")\n",
    "\n",
    "# 파일 업로드\n",
    "blob_name = \"azure-search-partial.pdf\"\n",
    "blob_client = container_client.get_blob_client(blob_name)\n",
    "local_file_path = f\"data/{blob_name}\"\n",
    "\n",
    "# 파일 존재 시 삭제\n",
    "try:\n",
    "    blob_client.get_blob_properties()\n",
    "    print(f\"{blob_name} 파일이 이미 존재 합니다. 기존 파일을 삭제합니다.\")\n",
    "    blob_client.delete_blob()\n",
    "    print(f\"{blob_name} 파일이 삭제 되었습니다.\")\n",
    "except Exception as e:\n",
    "    print(f\"\")\n",
    "\n",
    "with open(local_file_path, \"rb\") as data:\n",
    "    blob_client.upload_blob(data)\n",
    "\n",
    "print(f\"{blob_name} 파일이 {container_name} 컨테이너로 업로드 되었습니다.\")"
   ]
  },
  {
   "cell_type": "markdown",
   "metadata": {},
   "source": [
    "#### Datasource 생성"
   ]
  },
  {
   "cell_type": "code",
   "execution_count": 78,
   "metadata": {},
   "outputs": [
    {
     "name": "stdout",
     "output_type": "stream",
     "text": [
      "'aisearch-sample-datasource' 데이터소스가 생성되었습니다.\n"
     ]
    }
   ],
   "source": [
    "indexer_client = SearchIndexerClient(endpoint=endpoint, credential=credential)\n",
    "\n",
    "data_source_connection = SearchIndexerDataSourceConnection(\n",
    "    name = search_datasource,\n",
    "    type = \"azureblob\",\n",
    "    connection_string = os.getenv(\"AZURE_BLOB_CONNECTION_STRING\"),\n",
    "    container = SearchIndexerDataContainer(name = container_name),\n",
    ")\n",
    "\n",
    "indexer_client.create_or_update_data_source_connection(data_source_connection)\n",
    "print(f\"'{search_datasource}' 데이터소스가 생성되었습니다.\")"
   ]
  },
  {
   "cell_type": "markdown",
   "metadata": {},
   "source": [
    "#### Skillset 생성\n",
    "\n",
    "내장 된 Skillset을 이용하여 skillset을 생성합니다.\n",
    "\n",
    "문서를 split 후 embedding 합니다."
   ]
  },
  {
   "cell_type": "code",
   "execution_count": 72,
   "metadata": {},
   "outputs": [
    {
     "name": "stdout",
     "output_type": "stream",
     "text": [
      "'split-text-skilsets-test' skillset이 생성되었습니다.\n"
     ]
    }
   ],
   "source": [
    "skillset_name = \"split-text-skilsets-test\"\n",
    "\n",
    "# skillset 정의\n",
    "skillset = SearchIndexerSkillset(\n",
    "    name=skillset_name,\n",
    "    skills=[\n",
    "        SplitSkill(\n",
    "            name=\"Text split skill\",\n",
    "            default_language_code=\"ko\",\n",
    "            context=\"/document\",\n",
    "            inputs=[\n",
    "                InputFieldMappingEntry(\n",
    "                    name=\"text\",\n",
    "                    source=\"/document/content\"\n",
    "                )\n",
    "            ],\n",
    "            outputs=[\n",
    "                OutputFieldMappingEntry(\n",
    "                    name=\"textItems\",\n",
    "                    target_name=\"pages\"\n",
    "                )\n",
    "            ],\n",
    "            text_split_mode=TextSplitMode.Pages,\n",
    "            maximum_page_length=2000,\n",
    "            page_overlap_length=500,\n",
    "        ),\n",
    "        AzureOpenAIEmbeddingSkill(\n",
    "            name=\"Embedding skill\",\n",
    "            resource_uri=azure_openai_endpoint,\n",
    "            deployment_id=azure_openai_embedding_deployment,\n",
    "            model_name=azure_openai_embedding_deployment,\n",
    "            api_key=azure_openai_key,\n",
    "            context=\"/document/pages/*\",\n",
    "            inputs=[\n",
    "                InputFieldMappingEntry(\n",
    "                    name=\"text\",\n",
    "                    source=\"/document/pages/*\"\n",
    "                )\n",
    "            ],\n",
    "            outputs=[\n",
    "                OutputFieldMappingEntry(\n",
    "                    name=\"embedding\",\n",
    "                    target_name=\"vector\"\n",
    "                )\n",
    "            ]\n",
    "        )\n",
    "    ],\n",
    "    index_projections=SearchIndexerIndexProjections(\n",
    "        selectors=[\n",
    "            SearchIndexerIndexProjectionSelector(\n",
    "                target_index_name=index_name,\n",
    "                parent_key_field_name=\"parent_id\",\n",
    "                source_context=\"/document/pages/*\",\n",
    "                mappings=[\n",
    "                    InputFieldMappingEntry(\n",
    "                        name=\"chunk\",\n",
    "                        source=\"/document/pages/*\"\n",
    "                    ),\n",
    "                    InputFieldMappingEntry(\n",
    "                        name=\"vector\",\n",
    "                        source=\"/document/pages/*/vector\"\n",
    "                    ),\n",
    "                    InputFieldMappingEntry(\n",
    "                        name=\"title\",\n",
    "                        source=\"/document/metadata_storage_name\"\n",
    "                    )\n",
    "                ]\n",
    "            )\n",
    "        ],\n",
    "        parameters=SearchIndexerIndexProjectionsParameters(projection_mode=\"skipIndexingParentDocuments\")\n",
    "    )\n",
    ")\n",
    "\n",
    "# Skillset 생성\n",
    "indexer_client.create_or_update_skillset(skillset)\n",
    "print(f\"'{skillset_name}' skillset이 생성되었습니다.\")"
   ]
  },
  {
   "cell_type": "markdown",
   "metadata": {},
   "source": [
    "### Indexer 생성\n",
    "\n",
    "이전에 생성한 data source, skillet을 이용하여 인덱서를 생성합니다.\n",
    "\n",
    "인덱서가 실행되면, 데이터 소스로부터 데이터를 가져와 skillset으로 작업을 실행 후 대상 index에 데이터를 입력합니다.\n",
    "\n",
    "원할 때 한 번 혹은 스케쥴링하여 실행 할 수 있습니다."
   ]
  },
  {
   "cell_type": "code",
   "execution_count": 85,
   "metadata": {},
   "outputs": [
    {
     "data": {
      "text/plain": [
       "<azure.search.documents.indexes._generated.models._models_py3.SearchIndexer at 0x7f6d20b3c750>"
      ]
     },
     "execution_count": 85,
     "metadata": {},
     "output_type": "execute_result"
    }
   ],
   "source": [
    "indexer_name = \"split-text-skillsets-test-indexer\"\n",
    "\n",
    "indexer = SearchIndexer(\n",
    "    name = indexer_name,\n",
    "    data_source_name = search_datasource,\n",
    "    target_index_name = index_name,\n",
    "    skillset_name = skillset_name,\n",
    ")\n",
    "\n",
    "indexer_client.create_or_update_indexer(indexer)\n"
   ]
  },
  {
   "cell_type": "code",
   "execution_count": 79,
   "metadata": {},
   "outputs": [
    {
     "name": "stdout",
     "output_type": "stream",
     "text": [
      "indexer 실행 중...\n"
     ]
    }
   ],
   "source": [
    "# indexer 실행\n",
    "\n",
    "indexer_client.run_indexer(indexer_name)\n",
    "\n",
    "print(\"indexer 실행 중...\")"
   ]
  },
  {
   "cell_type": "markdown",
   "metadata": {},
   "source": [
    "인덱서 실행 후 Azure Portal에 접속하여 AI Search 서비스로 이동 후 Search management > Indexers 에서 생성 된 인덱서 확인 할 수 있습니다.\n",
    "\n",
    "인덱서를 클릭하면 실행 된 내용을 확인 할 수 있습니다.\n",
    "\n",
    "![Indexer](images/portal_ai_search_indexer_01.png)</p>\n",
    "![Indexer detail](images/portal_ai_search_indexer_02.png)</p>\n",
    "![Indexer index documents](images/portal_ai_search_indexer_03.png)"
   ]
  },
  {
   "cell_type": "markdown",
   "metadata": {},
   "source": []
  }
 ],
 "metadata": {
  "kernelspec": {
   "display_name": "Python 3",
   "language": "python",
   "name": "python3"
  },
  "language_info": {
   "codemirror_mode": {
    "name": "ipython",
    "version": 3
   },
   "file_extension": ".py",
   "mimetype": "text/x-python",
   "name": "python",
   "nbconvert_exporter": "python",
   "pygments_lexer": "ipython3",
   "version": "3.11.4"
  }
 },
 "nbformat": 4,
 "nbformat_minor": 2
}
